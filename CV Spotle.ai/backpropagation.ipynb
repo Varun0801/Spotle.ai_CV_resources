{
 "cells": [
  {
   "cell_type": "markdown",
   "metadata": {},
   "source": [
    "\n",
    "<p><strong>&nbsp;&nbsp;&nbsp;&nbsp;&nbsp;&nbsp;&nbsp;&nbsp;&nbsp;&nbsp;&nbsp;&nbsp;&nbsp;&nbsp;&nbsp;&nbsp;&nbsp;\n",
    "    &nbsp;&nbsp;&nbsp;&nbsp;&nbsp;&nbsp;&nbsp;&nbsp;&nbsp;&nbsp;&nbsp;&nbsp;&nbsp;&nbsp;&nbsp;&nbsp;&nbsp;&nbsp;&nbsp;&nbsp;&nbsp;&nbsp;&nbsp;&nbsp;\n",
    "    Pima-Indians-Diabetes</strong></p>\n",
    "<pre>   preg  plas  pres  skin  test  mass   pedi  age  class\n",
    "0     6   148    72    35     0  33.6  0.627   50      1\n",
    "1     1    85    66    29     0  26.6  0.351   31      0\n",
    "2     8   183    64     0     0  23.3  0.672   32      1\n",
    "3     1    89    66    23    94  28.1  0.167   21      0\n",
    "4     0   137    40    35   168  43.1  2.288   33      1\n",
    "5     5   116    74     0     0  25.6  0.201   30      0\n",
    "6     3    78    50    32    88  31.0  0.248   26      1\n",
    "7    10   115     0     0     0  35.3  0.134   29      0\n",
    "8     2   197    70    45   543  30.5  0.158   53      1\n",
    "9     8   125    96     0     0   0.0  0.232   54      1</pre>\n",
    "\n",
    "This dataset is originally from the National Institute of Diabetes and Digestive and Kidney Diseases. The objective of the dataset is to diagnostically predict whether or not a patient has diabetes, based on certain diagnostic measurements included in the dataset.  All patients here are females at least 21 years old from Pima Indian heritage.\n",
    "Please download the dataset from the link:\n",
    "https://www.kaggle.com/uciml/pima-indians-diabetes-database \n",
    "\n",
    "The dataset consists of 9 columns and 768 observations. Columns are namely preg, plas, pres, skin, test, mass, pedi, age and class.\n",
    "1. Number of times pregnant,\n",
    "2. Plasma glucose concentration a 2 hours in an oral glucose tolerance test,\n",
    "3. Diastolic blood pressure (mm Hg),\n",
    "4. Triceps skin fold thickness (mm),\n",
    "5. 2-Hour serum insulin (mu U/ml),\n",
    "6. Body mass index (weight in kg/(height in m)^2),\n",
    "7. Diabetes pedigree function,\n",
    "8. Age (years),\n",
    "9. Class variable (0 or 1)\n",
    "\n",
    "The dataset contains information for 500 non diabetic subjects and 268 diabetic patients."
   ]
  },
  {
   "cell_type": "code",
   "execution_count": null,
   "metadata": {},
   "outputs": [],
   "source": [
    "# import modules\n",
    "from keras.models import Sequential\n",
    "from keras.layers import Dense\n",
    "import numpy\n",
    "import warnings\n",
    "warnings.filterwarnings(\"ignore\")"
   ]
  },
  {
   "cell_type": "code",
   "execution_count": null,
   "metadata": {},
   "outputs": [],
   "source": [
    "# fix seed for random number generation.\n",
    "seed = 123\n",
    "numpy.random.seed(seed)"
   ]
  },
  {
   "cell_type": "code",
   "execution_count": null,
   "metadata": {},
   "outputs": [],
   "source": [
    "# upload dataset\n",
    "dataset = numpy.loadtxt(\"/common/AI & ML/data/pima-indians-diabetes.csv\", delimiter=\",\")\n",
    "\n",
    "# split into features (X) and targeted output (Y). \n",
    "X = dataset[:,0:8]\n",
    "Y = dataset[:,8]"
   ]
  },
  {
   "cell_type": "code",
   "execution_count": null,
   "metadata": {},
   "outputs": [],
   "source": [
    "# create  model\n",
    "model = Sequential()\n",
    "model.add(Dense(16, input_dim=8, init='uniform', activation='sigmoid'))\n",
    "model.add(Dense(1, init='uniform', activation='sigmoid'))\n",
    "\n",
    "# Compile model\n",
    "model.compile(loss='mean_squared_error', optimizer='sgd', metrics=['accuracy'])"
   ]
  },
  {
   "cell_type": "code",
   "execution_count": null,
   "metadata": {},
   "outputs": [],
   "source": [
    "# Fit the model\n",
    "model.fit(X, Y, nb_epoch=150, batch_size=10)"
   ]
  },
  {
   "cell_type": "code",
   "execution_count": null,
   "metadata": {},
   "outputs": [],
   "source": [
    "# evaluate the model \n",
    "scores = model.evaluate(X, Y)\n",
    "print(scores)\n",
    "print(\"%s: %.2f%%\" % (model.metrics_names[1], scores[1]*100))"
   ]
  }
 ],
 "metadata": {
  "kernelspec": {
   "display_name": "Python 3",
   "language": "python",
   "name": "python3"
  },
  "language_info": {
   "codemirror_mode": {
    "name": "ipython",
    "version": 3
   },
   "file_extension": ".py",
   "mimetype": "text/x-python",
   "name": "python",
   "nbconvert_exporter": "python",
   "pygments_lexer": "ipython3",
   "version": "3.7.2"
  }
 },
 "nbformat": 4,
 "nbformat_minor": 2
}
