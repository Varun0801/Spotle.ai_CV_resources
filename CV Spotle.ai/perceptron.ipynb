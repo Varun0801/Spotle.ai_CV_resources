{
 "cells": [
  {
   "cell_type": "markdown",
   "metadata": {},
   "source": [
    "<p><strong>Perceptron theorem:</strong> If a linear discriminant exists that can separate the classes without error, the training procedure is guaranteed to find that line or plane.</p>"
   ]
  },
  {
   "attachments": {
    "image.png": {
     "image/png": "[encoded data removed]"
    }
   },
   "cell_type": "markdown",
   "metadata": {},
   "source": [
    "![image.png](attachment:image.png)"
   ]
  },
  {
   "cell_type": "code",
   "execution_count": null,
   "metadata": {},
   "outputs": [],
   "source": [
    "import numpy as np\n",
    "import matplotlib.pyplot as plt\n",
    "\n",
    "class Perceptron(object):\n",
    "    def __init__(self, no_inputs, learning_rate=0.1):\n",
    "        # learning rate\n",
    "        self.__lrate__ = learning_rate\n",
    "        \n",
    "        # initialize weights. extra weight is theta (bias)\n",
    "        # first element of weight vector is bias \n",
    "        self.__weights__ = np.random.rand(no_inputs + 1)\n",
    "\n",
    "    def __predict__(self, input):\n",
    "        # predict or compute output for a input\n",
    "        \n",
    "        # sum value, bias + dot product of weights and inputs\n",
    "        summation = np.dot(input, self.__weights__[1:]) + self.__weights__[0]\n",
    "        \n",
    "        # step function as activation function\n",
    "        if summation > 0:\n",
    "            activation = 1\n",
    "        else:\n",
    "            activation = 0\n",
    "        return activation\n",
    "\n",
    "    def predict(self, inputs):\n",
    "        \n",
    "        # prediction vector for all inputs\n",
    "        return np.array([self.__predict__(row) for row in inputs])\n",
    "\n",
    "    def accuracy(self, inputs, target):\n",
    "        # calculate accuracy percentage\n",
    "        \n",
    "        output = self.predict(inputs)\n",
    "        sum = 0\n",
    "        for o, t in zip(output, target):\n",
    "            if o == t:\n",
    "                sum += 1\n",
    "        return 100*sum/len(output)\n",
    "\n",
    "    def train(self, training_inputs, targets, max_epoch = 1000):\n",
    "        # train the perceptron model \n",
    "        \n",
    "        # accuracy at begining of training \n",
    "        accuracy = self.accuracy(training_inputs, targets)\n",
    "        for _ in range(max_epoch):\n",
    "            for inputs, target in zip(training_inputs, targets):\n",
    "                # computed output\n",
    "                prediction = self.__predict__(inputs)\n",
    "                \n",
    "                #new weights = old weights + learning rate * (target - output) * inputs\n",
    "                self.__weights__[1:] += self.__lrate__ * (target - prediction) * inputs\n",
    "                \n",
    "                # update bais theta\n",
    "                self.__weights__[0] += self.__lrate__ * (target - prediction) * 1\n",
    "\n",
    "            # accuracy after training\n",
    "            accuracy = self.accuracy(training_inputs, targets)\n",
    "            \n",
    "            # stop if model produce 100% accuracy, else next iteration\n",
    "            if accuracy >= 100:\n",
    "                break\n",
    "        # return accuracy achieved and updated weights\n",
    "        return accuracy, self.__weights__"
   ]
  },
  {
   "cell_type": "code",
   "execution_count": null,
   "metadata": {},
   "outputs": [],
   "source": [
    "def draw_graph(line, xy, labels, limit = True):\n",
    "    # set up figure and ax\n",
    "    fig, ax = plt.subplots(figsize=(8, 8))\n",
    "    \n",
    "    #draw discriminat line\n",
    "    ax.plot(line[0], line[1])\n",
    "    \n",
    "    # draw scatter plot\n",
    "    ax.scatter(xy[:, 0], xy[:, 1], c=labels)\n",
    "    ax.set_xlim(0, 1)\n",
    "    ax.set_ylim(0, 1)"
   ]
  },
  {
   "cell_type": "markdown",
   "metadata": {},
   "source": [
    "<p>Generating points corresponding to x = 0 and x = 1<br />from equation bias + x * beta1 + y * beta2 = 0<br />y = -(bias + x * beta1)/beta2, beta2 &gt; 0</p>"
   ]
  },
  {
   "cell_type": "code",
   "execution_count": null,
   "metadata": {},
   "outputs": [],
   "source": [
    "def get_line_points(bias, beta1, beta2):\n",
    "    return([0,1], [-bias/beta2, -(bias+beta1)/beta2])"
   ]
  },
  {
   "cell_type": "markdown",
   "metadata": {},
   "source": [
    "<p>Generate 100 random points in two dimenssions.<br />It has two classes</p>"
   ]
  },
  {
   "cell_type": "code",
   "execution_count": null,
   "metadata": {},
   "outputs": [],
   "source": [
    "np.random.seed(12345)\n",
    "data = np.random.rand(100, 2)\n",
    "targets = [1 if row[0] < row[1] else 0 for row in data]"
   ]
  },
  {
   "cell_type": "code",
   "execution_count": null,
   "metadata": {},
   "outputs": [],
   "source": [
    "# create an object of perceptron -- number of inputs node is 2\n",
    "pctn = Perceptron(2)\n",
    "\n",
    "# initial weights, randomly chosen\n",
    "acc, weights = pctn.train(data, targets, 0)\n",
    "\n",
    "line_points = get_line_points(weights[0], weights[1], weights[2])\n",
    "draw_graph(line_points, data, targets)"
   ]
  },
  {
   "cell_type": "markdown",
   "metadata": {},
   "source": [
    "Let's check discriminat line and accuracy after 5 iterations"
   ]
  },
  {
   "cell_type": "code",
   "execution_count": null,
   "metadata": {},
   "outputs": [],
   "source": [
    "acc, weights = pctn.train(data, targets, 5)\n",
    "line_points = get_line_points(weights[0], weights[1], weights[2])\n",
    "print('accuracy = {}'.format(acc))\n",
    "draw_graph(line_points, data, targets)"
   ]
  },
  {
   "cell_type": "markdown",
   "metadata": {},
   "source": [
    "Let's check discriminat line and accuracy after a iteration"
   ]
  },
  {
   "cell_type": "code",
   "execution_count": null,
   "metadata": {},
   "outputs": [],
   "source": [
    "acc, weights = pctn.train(data, targets, 1)\n",
    "line_points = get_line_points(weights[0], weights[1], weights[2])\n",
    "print('accuracy = {}'.format(acc))\n",
    "draw_graph(line_points, data, targets)"
   ]
  },
  {
   "cell_type": "markdown",
   "metadata": {},
   "source": [
    "Let's check discriminat line and accuracy after 5 iterations"
   ]
  },
  {
   "cell_type": "code",
   "execution_count": null,
   "metadata": {},
   "outputs": [],
   "source": [
    "acc, weights = pctn.train(data, targets, 5)\n",
    "line_points = get_line_points(weights[0], weights[1], weights[2])\n",
    "print('accuracy = {}'.format(acc))\n",
    "draw_graph(line_points, data, targets)"
   ]
  },
  {
   "cell_type": "markdown",
   "metadata": {},
   "source": [
    "Let's check discriminat line and accuracy after completion"
   ]
  },
  {
   "cell_type": "code",
   "execution_count": null,
   "metadata": {},
   "outputs": [],
   "source": [
    "acc, weights = pctn.train(data, targets)\n",
    "line_points = get_line_points(weights[0], weights[1], weights[2])\n",
    "print('accuracy = {}'.format(acc))\n",
    "draw_graph(line_points, data, targets)"
   ]
  }
 ],
 "metadata": {
  "kernelspec": {
   "display_name": "Python 3",
   "language": "python",
   "name": "python3"
  },
  "language_info": {
   "codemirror_mode": {
    "name": "ipython",
    "version": 3
   },
   "file_extension": ".py",
   "mimetype": "text/x-python",
   "name": "python",
   "nbconvert_exporter": "python",
   "pygments_lexer": "ipython3",
   "version": "3.7.2"
  }
 },
 "nbformat": 4,
 "nbformat_minor": 2
}
